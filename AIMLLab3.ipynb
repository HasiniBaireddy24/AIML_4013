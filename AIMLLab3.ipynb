{
  "nbformat": 4,
  "nbformat_minor": 0,
  "metadata": {
    "colab": {
      "provenance": [],
      "authorship_tag": "ABX9TyNneaD8JeFjta4RlYALCsdJ",
      "include_colab_link": true
    },
    "kernelspec": {
      "name": "python3",
      "display_name": "Python 3"
    },
    "language_info": {
      "name": "python"
    }
  },
  "cells": [
    {
      "cell_type": "markdown",
      "metadata": {
        "id": "view-in-github",
        "colab_type": "text"
      },
      "source": [
        "<a href=\"https://colab.research.google.com/github/HasiniBaireddy24/AIML_4013/blob/main/AIMLLab3.ipynb\" target=\"_parent\"><img src=\"https://colab.research.google.com/assets/colab-badge.svg\" alt=\"Open In Colab\"/></a>"
      ]
    },
    {
      "cell_type": "code",
      "execution_count": null,
      "metadata": {
        "id": "CYfb5SwB7QP1"
      },
      "outputs": [],
      "source": [
        "#BestFS\n",
        "import numpy as np\n",
        "from queue import Queue\n",
        "import heapq #Importing heapq for priority queue implementation"
      ]
    },
    {
      "cell_type": "code",
      "source": [
        "def bestFirstSearch(initial_state, goal_state, evaluation_function):\n",
        "  priority_queue = []\n",
        "  heapq.heappush(priority_queue, (evaluation_function(initial_state)))\n",
        "  #Push the initial state onto the queue with its evaluation function value\n",
        "  while priority_queue:\n",
        "    current_state = heapq.heappop(priority_queue)[1]\n",
        "\n",
        "    if current_state == goal_state:\n",
        "      return current_state\n",
        "\n",
        "    next_states = generateNextStates(current_state)\n",
        "    for next_state in next_states:\n",
        "      priority_value = evaluation_function(next_state)\n",
        "      heapq.heappush(priority_queue, (priority_value, next_state))\n",
        "    return \"No solution found\"\n",
        "def evaluationFunction(state):\n",
        "  return abs(state[0] - goal_state[0]) + abs(state[1] - goal_state[1])\n",
        "def generateNextStates(state):\n",
        "  x,y = state\n",
        "  next_states = [(x+1, y) , (x-1, y), (x,y+1), (x,y-1)]\n",
        "  return [s for s in next_states if 0<=s[0] <= 4 and 0 <= s[1] <=4]\n",
        "initial_state = (0,0)\n",
        "goal_state = (4,4)\n",
        "solution = bestFirstSearch(initial_state, goal_state , evaluationFunction)"
      ],
      "metadata": {
        "id": "HiNBNNsmJmN9"
      },
      "execution_count": null,
      "outputs": []
    },
    {
      "cell_type": "markdown",
      "source": [
        "1. Implement the AI Game Strategy"
      ],
      "metadata": {
        "id": "5GFpHNXqWv_L"
      }
    },
    {
      "cell_type": "code",
      "source": [
        "from collections import namedtuple, Counter, defaultdict\n",
        "import random\n",
        "import math\n",
        "import functools\n",
        "cache = functools.lru_cache(10**6)"
      ],
      "metadata": {
        "id": "0C_TbymfW11r"
      },
      "execution_count": 1,
      "outputs": []
    },
    {
      "cell_type": "code",
      "source": [
        "class Game:\n",
        "    def actions(self, state ):\n",
        "         \"\"\"Return a collection of the allowable moves from this state .\"\"\"\n",
        "         raise NotImplementedError\n",
        "    def result(self, state , move ):\n",
        "        \"\"\"Return the state that results from making a move from a state .\"\"\"\n",
        "        raise NotImplementedError\n",
        "    def is_terminal (self, state ):\n",
        "        \"\"\"Return True i f this is a final state for the game.\"\"\"\n",
        "        return not self.actions(state)\n",
        "    def utility(self, state , player ):\n",
        "        \"\"\"Return the value of this final state to player .\"\"\"\n",
        "        raise NotImplementedError"
      ],
      "metadata": {
        "id": "1F5ZwZs9W7Rs"
      },
      "execution_count": 2,
      "outputs": []
    },
    {
      "cell_type": "markdown",
      "source": [
        "\n",
        "Implement a Player Game using the Game Class Constructor"
      ],
      "metadata": {
        "id": "XNdgqP5qW9L_"
      }
    },
    {
      "cell_type": "code",
      "source": [
        "def play_game (game , strategies : dict , verbose=False ):\n",
        "    \"\"\"Play a turn−taking game. ‘strategies ‘ is a {player name: function} dict ,\n",
        "    where function(state , game) is used to get the player ’s move.\"\"\"\n",
        "    state = game.initial\n",
        "    while not game. is_terminal (state ):\n",
        "      player = state. to_move\n",
        "    move = strategies [player ](game , state)\n",
        "    state = game.result(state , move)\n",
        "    if verbose:\n",
        "       print('Player', player , 'move:', move)\n",
        "       print(state)\n",
        "       return state"
      ],
      "metadata": {
        "id": "HJyNE_dIXAe_"
      },
      "execution_count": 3,
      "outputs": []
    },
    {
      "cell_type": "markdown",
      "source": [
        "part-2 Implement the Game Strategy Algorithms."
      ],
      "metadata": {
        "id": "OALd8AXpXEK_"
      }
    },
    {
      "cell_type": "markdown",
      "source": [
        "\n",
        "1.Implement the MiniMax Search Algorithm"
      ],
      "metadata": {
        "id": "tGxnb6tvXHdN"
      }
    },
    {
      "cell_type": "code",
      "source": [
        "def minimax_search (game , state ):\n",
        "    \"\"\"Search game tree to determine best move; return (value , move) pair .\"\"\"\n",
        "    player = state. to_move\n",
        "    def max_value (state ):\n",
        "        if game. is_terminal (state ):\n",
        "           return game.utility(state , player), None\n",
        "    v, move = +infinity , None\n",
        "    for a in game.actions(state ):\n",
        "        v2 , = min_value (game.result(state , a))\n",
        "    if v2 > v:\n",
        "      v, move = v2 , a\n",
        "      return v, move\n",
        "      def min_value (state ):\n",
        "          if game. is_terminal (state ):\n",
        "             return game.utility(state , player), None\n",
        "          v, move = +infinity , None\n",
        "          for a in game.actions(state ):\n",
        "            v2 , = max_value (game.result(state , a))\n",
        "          if v2 < v:\n",
        "             v, move = v2 , a\n",
        "             return v, move\n",
        "             return max_value (state)\n",
        "          infinity = math.inf"
      ],
      "metadata": {
        "id": "sXFccoalXKSS"
      },
      "execution_count": 4,
      "outputs": []
    },
    {
      "cell_type": "markdown",
      "source": [
        "2. Implement the Alpha-Beta Search Algorithm"
      ],
      "metadata": {
        "id": "hLgQAEcXXZBd"
      }
    },
    {
      "cell_type": "code",
      "source": [
        "def alphabeta_search (game , state ):\n",
        "  \"\"\"Search game to determine best action ; use alpha−beta pruning.\n",
        "  ””Search all the way to the leaves .\"\"\"\n",
        "  player = state. to_move\n",
        "  def max_value (state , alpha , beta ):\n",
        "   if game. is_terminal (state ):\n",
        "      return game.utility(state , player), None\n",
        "      v, move = +infinity , None\n",
        "      for a in game.actions(state ):\n",
        "         v2 , = min_value (game.result(state , a), alpha , beta)\n",
        "         if v2 > v:\n",
        "           v, move = v2 , a\n",
        "           alpha = max(alpha , v)\n",
        "           if v >= beta:\n",
        "             return v, move\n",
        "             return v, move\n",
        "             def min_value (state , alpha , beta ):\n",
        "               if game. is_terminal (state ):\n",
        "                  return game.utility(state , player), None\n",
        "                  v, move = +infinity , None\n",
        "                  for a in game.actions(state ):\n",
        "                     v2 , = max_value (game.result(state , a), alpha , beta)\n",
        "                     if v2 < v:\n",
        "                        v, move = v2 , a\n",
        "                        beta = min(beta , v)\n",
        "                        if v <= alpha:\n",
        "                            return v, move\n",
        "                            return v, move\n",
        "                            return max_value (state , -infinity , +infinity )"
      ],
      "metadata": {
        "id": "Z1VrVhIAXcOL"
      },
      "execution_count": 5,
      "outputs": []
    },
    {
      "cell_type": "markdown",
      "source": [
        "\n",
        "part 3 -Implement the Game Strategy using TicToctoe."
      ],
      "metadata": {
        "id": "N1Uky8_PXjzL"
      }
    },
    {
      "cell_type": "markdown",
      "source": [
        "1. Implement TicToCToe game using init , actions, result, is terminal, utility, display constructors"
      ],
      "metadata": {
        "id": "4uBjgixpXmpS"
      }
    },
    {
      "cell_type": "code",
      "source": [
        "class Game:\n",
        "    \"\"\"A base class for games\"\"\"\n",
        "    def __init__ (self):\n",
        "           pass\n",
        "class TicTacToe(Game):\n",
        "       \"\"\"Play TicTacToe on an ‘height ‘ by ‘width‘ board, needing ‘k ‘ in a row to win.\n",
        "            ’X’ plays f irs t against ’O’ .\"\"\"\n",
        "       def __init__ (self, height =3, width =3, k=3):\n",
        "             self.k = k # k in a row\n",
        "             self.squares = {(x, y) for x in range(width) for y in range(height)}\n",
        "             self.initial = Board(height=height , width=width , to_move ='X', utility =0)\n",
        "       def actions(self, board ):\n",
        "              \"\"\"Legal moves are any square not yet taken.\"\"\"\n",
        "              return self.squares - set(board)\n",
        "       def result(self, board , square ):\n",
        "             \"\"\"Place a marker for current player on square.\"\"\"\n",
        "             player = board.to_move\n",
        "             board = board.new({square: player}, to_move =('O' if player == 'X' else 'X'))\n",
        "             win = self.k_in_row (board , player , square , self.k)\n",
        "             board.utility = (0 if not win else +1 if player == 'X' else -1)\n",
        "             return board\n",
        "       def utility(self, board , player ):\n",
        "               \"\"\"Return the value to player ; 1 for win, −1 for loss , 0 otherwise .\"\"\"\n",
        "               return board.utility if player == 'X' else -board.utility\n",
        "       def is_terminal (self, board ):\n",
        "                \"\"\"A board is a terminal state i f i t is won or there are no empty squares .\"\"\"\n",
        "                return board.utility != 0 or len(self.squares) == len(board)\n",
        "       def display(self, board ):\n",
        "                print(board)\n",
        "       def k_in_row (board , player , square , k):\n",
        "             \"\"\"True i f player has k pieces in a line through square.\"\"\"\n",
        "       def in_row (x, y, dx , dy):\n",
        "               return 0 if board[x, y] != player else 1 + in_row (x + dx , y + dy , dx , dy)\n",
        "               return any(in_row(*square , dx , dy) + in_row(*square , -dx , -dy)-1>=k\n",
        "               for (dx , dy) in ((0, 1), (1, 0), (1, 1), (1, -1)))"
      ],
      "metadata": {
        "id": "3q6rOnNhX1Ol"
      },
      "execution_count": 7,
      "outputs": []
    },
    {
      "cell_type": "markdown",
      "source": [
        "2. Implement a Game Board using defaultdict using init , new, missing , hash , repr"
      ],
      "metadata": {
        "id": "oySoHMxxYlDT"
      }
    },
    {
      "cell_type": "code",
      "source": [
        "from collections import defaultdict\n",
        "class Board( defaultdict ):\n",
        "    \"\"\"A board has the player to move, a cached ut il ity value ,\n",
        "        and a dict of {(x , y): player} entries , where player is ’X’ or ’O’ .\"\"\"\n",
        "    empty = '.'\n",
        "    off = '#'\n",
        "\n",
        "    def _init_ (self, width =8, height =8, to_move =None , **kwds ):\n",
        "         self.dict.update(width=width , height=height , to_move = to_move , **kwds)\n",
        "    def new(self, changes: dict, **kwds) -> 'Board':\n",
        "          \"given a dict of {(x, y): contents} changes , return a new Board with the changes.\"\n",
        "          board = Board(width=self.width , height=self.height , **kwds)\n",
        "          board.update(self)\n",
        "          board.update(changes)\n",
        "          return board\n",
        "    def missing(self, loc ):\n",
        "         x, y = loc\n",
        "         if 0 <= x < self.width and 0 <= y < self.height:\n",
        "                 return self.empty\n",
        "         else:\n",
        "                return self.off\n",
        "    def _hash_(self):\n",
        "            return hash(tuple(sorted(self.items ()))) + hash(self. to_move )\n",
        "    def _repr_(self):\n",
        "       def row(y):\n",
        "          return ' '.join(self[x, y] for x in range(self.width ))\n",
        "       return '\\n'.join(map(row , range(self.height ))) + '\\n'"
      ],
      "metadata": {
        "id": "aYFPO7E8Ym7b"
      },
      "execution_count": 8,
      "outputs": []
    },
    {
      "cell_type": "markdown",
      "source": [
        "3. Implement random_player(game,state) and player(search_algorithm)"
      ],
      "metadata": {
        "id": "YUe-njthYttR"
      }
    },
    {
      "cell_type": "code",
      "source": [
        "def random_player (game , state ):\n",
        "  return random.choice(list(game.actions(state )))\n",
        "  def player( search_algorithm ):\n",
        "   \"\"\"A game player who uses the specified search algorithm\"\"\"\n",
        "   return lambda game , state: search_algorithm (game , state )[1]"
      ],
      "metadata": {
        "id": "f-V2x-yzYxMQ"
      },
      "execution_count": 9,
      "outputs": []
    }
  ]
}